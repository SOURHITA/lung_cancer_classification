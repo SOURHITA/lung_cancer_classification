{
  "nbformat": 4,
  "nbformat_minor": 0,
  "metadata": {
    "colab": {
      "name": "lung classification.ipynb",
      "version": "0.3.2",
      "provenance": [],
      "collapsed_sections": [],
      "include_colab_link": true
    },
    "kernelspec": {
      "name": "python3",
      "display_name": "Python 3"
    },
    "accelerator": "GPU"
  },
  "cells": [
    {
      "cell_type": "markdown",
      "metadata": {
        "id": "view-in-github",
        "colab_type": "text"
      },
      "source": [
        "<a href=\"https://colab.research.google.com/github/SOURHITA/lung_cancer_classification/blob/master/lung_classification.ipynb\" target=\"_parent\"><img src=\"https://colab.research.google.com/assets/colab-badge.svg\" alt=\"Open In Colab\"/></a>"
      ]
    },
    {
      "cell_type": "code",
      "metadata": {
        "id": "-9dUdQCwxZ3r",
        "colab_type": "code",
        "outputId": "3ffeed77-dce5-4200-f2f7-77a7fdd61814",
        "colab": {
          "base_uri": "https://localhost:8080/",
          "height": 119
        }
      },
      "source": [
        "!git clone https://github.com/SOURHITA/lung_cancer_classification"
      ],
      "execution_count": 0,
      "outputs": [
        {
          "output_type": "stream",
          "text": [
            "Cloning into 'lung_cancer_classification'...\n",
            "remote: Enumerating objects: 1334, done.\u001b[K\n",
            "remote: Counting objects:   0% (1/1334)   \u001b[K\rremote: Counting objects:   1% (14/1334)   \u001b[K\rremote: Counting objects:   2% (27/1334)   \u001b[K\rremote: Counting objects:   3% (41/1334)   \u001b[K\rremote: Counting objects:   4% (54/1334)   \u001b[K\rremote: Counting objects:   5% (67/1334)   \u001b[K\rremote: Counting objects:   6% (81/1334)   \u001b[K\rremote: Counting objects:   7% (94/1334)   \u001b[K\rremote: Counting objects:   8% (107/1334)   \u001b[K\rremote: Counting objects:   9% (121/1334)   \u001b[K\rremote: Counting objects:  10% (134/1334)   \u001b[K\rremote: Counting objects:  11% (147/1334)   \u001b[K\rremote: Counting objects:  12% (161/1334)   \u001b[K\rremote: Counting objects:  13% (174/1334)   \u001b[K\rremote: Counting objects:  14% (187/1334)   \u001b[K\rremote: Counting objects:  15% (201/1334)   \u001b[K\rremote: Counting objects:  16% (214/1334)   \u001b[K\rremote: Counting objects:  17% (227/1334)   \u001b[K\rremote: Counting objects:  18% (241/1334)   \u001b[K\rremote: Counting objects:  19% (254/1334)   \u001b[K\rremote: Counting objects:  20% (267/1334)   \u001b[K\rremote: Counting objects:  21% (281/1334)   \u001b[K\rremote: Counting objects:  22% (294/1334)   \u001b[K\rremote: Counting objects:  23% (307/1334)   \u001b[K\rremote: Counting objects:  24% (321/1334)   \u001b[K\rremote: Counting objects:  25% (334/1334)   \u001b[K\rremote: Counting objects:  26% (347/1334)   \u001b[K\rremote: Counting objects:  27% (361/1334)   \u001b[K\rremote: Counting objects:  28% (374/1334)   \u001b[K\rremote: Counting objects:  29% (387/1334)   \u001b[K\rremote: Counting objects:  30% (401/1334)   \u001b[K\rremote: Counting objects:  31% (414/1334)   \u001b[K\rremote: Counting objects:  32% (427/1334)   \u001b[K\rremote: Counting objects:  33% (441/1334)   \u001b[K\rremote: Counting objects:  34% (454/1334)   \u001b[K\rremote: Counting objects:  35% (467/1334)   \u001b[K\rremote: Counting objects:  36% (481/1334)   \u001b[K\rremote: Counting objects:  37% (494/1334)   \u001b[K\rremote: Counting objects:  38% (507/1334)   \u001b[K\rremote: Counting objects:  39% (521/1334)   \u001b[K\rremote: Counting objects:  40% (534/1334)   \u001b[K\rremote: Counting objects:  41% (547/1334)   \u001b[K\rremote: Counting objects:  42% (561/1334)   \u001b[K\rremote: Counting objects:  43% (574/1334)   \u001b[K\rremote: Counting objects:  44% (587/1334)   \u001b[K\rremote: Counting objects:  45% (601/1334)   \u001b[K\rremote: Counting objects:  46% (614/1334)   \u001b[K\rremote: Counting objects:  47% (627/1334)   \u001b[K\rremote: Counting objects:  48% (641/1334)   \u001b[K\rremote: Counting objects:  49% (654/1334)   \u001b[K\rremote: Counting objects:  50% (667/1334)   \u001b[K\rremote: Counting objects:  51% (681/1334)   \u001b[K\rremote: Counting objects:  52% (694/1334)   \u001b[K\rremote: Counting objects:  53% (708/1334)   \u001b[K\rremote: Counting objects:  54% (721/1334)   \u001b[K\rremote: Counting objects:  55% (734/1334)   \u001b[K\rremote: Counting objects:  56% (748/1334)   \u001b[K\rremote: Counting objects:  57% (761/1334)   \u001b[K\rremote: Counting objects:  58% (774/1334)   \u001b[K\rremote: Counting objects:  59% (788/1334)   \u001b[K\rremote: Counting objects:  60% (801/1334)   \u001b[K\rremote: Counting objects:  61% (814/1334)   \u001b[K\rremote: Counting objects:  62% (828/1334)   \u001b[K\rremote: Counting objects:  63% (841/1334)   \u001b[K\rremote: Counting objects:  64% (854/1334)   \u001b[K\rremote: Counting objects:  65% (868/1334)   \u001b[K\rremote: Counting objects:  66% (881/1334)   \u001b[K\rremote: Counting objects:  67% (894/1334)   \u001b[K\rremote: Counting objects:  68% (908/1334)   \u001b[K\rremote: Counting objects:  69% (921/1334)   \u001b[K\rremote: Counting objects:  70% (934/1334)   \u001b[K\rremote: Counting objects:  71% (948/1334)   \u001b[K\rremote: Counting objects:  72% (961/1334)   \u001b[K\rremote: Counting objects:  73% (974/1334)   \u001b[K\rremote: Counting objects:  74% (988/1334)   \u001b[K\rremote: Counting objects:  75% (1001/1334)   \u001b[K\rremote: Counting objects:  76% (1014/1334)   \u001b[K\rremote: Counting objects:  77% (1028/1334)   \u001b[K\rremote: Counting objects:  78% (1041/1334)   \u001b[K\rremote: Counting objects:  79% (1054/1334)   \u001b[K\rremote: Counting objects:  80% (1068/1334)   \u001b[K\rremote: Counting objects:  81% (1081/1334)   \u001b[K\rremote: Counting objects:  82% (1094/1334)   \u001b[K\rremote: Counting objects:  83% (1108/1334)   \u001b[K\rremote: Counting objects:  84% (1121/1334)   \u001b[K\rremote: Counting objects:  85% (1134/1334)   \u001b[K\rremote: Counting objects:  86% (1148/1334)   \u001b[K\rremote: Counting objects:  87% (1161/1334)   \u001b[K\rremote: Counting objects:  88% (1174/1334)   \u001b[K\rremote: Counting objects:  89% (1188/1334)   \u001b[K\rremote: Counting objects:  90% (1201/1334)   \u001b[K\rremote: Counting objects:  91% (1214/1334)   \u001b[K\rremote: Counting objects:  92% (1228/1334)   \u001b[K\rremote: Counting objects:  93% (1241/1334)   \u001b[K\rremote: Counting objects:  94% (1254/1334)   \u001b[K\rremote: Counting objects:  95% (1268/1334)   \u001b[K\rremote: Counting objects:  96% (1281/1334)   \u001b[K\rremote: Counting objects:  97% (1294/1334)   \u001b[K\rremote: Counting objects:  98% (1308/1334)   \u001b[K\rremote: Counting objects:  99% (1321/1334)   \u001b[K\rremote: Counting objects: 100% (1334/1334)   \u001b[K\rremote: Counting objects: 100% (1334/1334), done.\u001b[K\n",
            "remote: Compressing objects:   0% (1/1334)   \u001b[K\rremote: Compressing objects:   1% (14/1334)   \u001b[K\rremote: Compressing objects:   2% (27/1334)   \u001b[K\rremote: Compressing objects:   3% (41/1334)   \u001b[K\rremote: Compressing objects:   4% (54/1334)   \u001b[K\rremote: Compressing objects:   5% (67/1334)   \u001b[K\rremote: Compressing objects:   6% (81/1334)   \u001b[K\rremote: Compressing objects:   7% (94/1334)   \u001b[K\rremote: Compressing objects:   8% (107/1334)   \u001b[K\rremote: Compressing objects:   9% (121/1334)   \u001b[K\rremote: Compressing objects:  10% (134/1334)   \u001b[K\rremote: Compressing objects:  11% (147/1334)   \u001b[K\rremote: Compressing objects:  12% (161/1334)   \u001b[K\rremote: Compressing objects:  13% (174/1334)   \u001b[K\rremote: Compressing objects:  14% (187/1334)   \u001b[K\rremote: Compressing objects:  15% (201/1334)   \u001b[K\rremote: Compressing objects:  16% (214/1334)   \u001b[K\rremote: Compressing objects:  17% (227/1334)   \u001b[K\rremote: Compressing objects:  18% (241/1334)   \u001b[K\rremote: Compressing objects:  19% (254/1334)   \u001b[K\rremote: Compressing objects:  20% (267/1334)   \u001b[K\rremote: Compressing objects:  21% (281/1334)   \u001b[K\rremote: Compressing objects:  22% (294/1334)   \u001b[K\rremote: Compressing objects:  23% (307/1334)   \u001b[K\rremote: Compressing objects:  24% (321/1334)   \u001b[K\rremote: Compressing objects:  25% (334/1334)   \u001b[K\rremote: Compressing objects:  26% (347/1334)   \u001b[K\rremote: Compressing objects:  27% (361/1334)   \u001b[K\rremote: Compressing objects:  28% (374/1334)   \u001b[K\rremote: Compressing objects:  29% (387/1334)   \u001b[K\rremote: Compressing objects:  30% (401/1334)   \u001b[K\rremote: Compressing objects:  31% (414/1334)   \u001b[K\rremote: Compressing objects:  32% (427/1334)   \u001b[K\rremote: Compressing objects:  33% (441/1334)   \u001b[K\rremote: Compressing objects:  34% (454/1334)   \u001b[K\rremote: Compressing objects:  35% (467/1334)   \u001b[K\rremote: Compressing objects:  36% (481/1334)   \u001b[K\rremote: Compressing objects:  37% (494/1334)   \u001b[K\rremote: Compressing objects:  38% (507/1334)   \u001b[K\rremote: Compressing objects:  39% (521/1334)   \u001b[K\rremote: Compressing objects:  40% (534/1334)   \u001b[K\rremote: Compressing objects:  41% (547/1334)   \u001b[K\rremote: Compressing objects:  42% (561/1334)   \u001b[K\rremote: Compressing objects:  43% (574/1334)   \u001b[K\rremote: Compressing objects:  44% (587/1334)   \u001b[K\rremote: Compressing objects:  45% (601/1334)   \u001b[K\rremote: Compressing objects:  46% (614/1334)   \u001b[K\rremote: Compressing objects:  47% (627/1334)   \u001b[K\rremote: Compressing objects:  48% (641/1334)   \u001b[K\rremote: Compressing objects:  49% (654/1334)   \u001b[K\rremote: Compressing objects:  50% (667/1334)   \u001b[K\rremote: Compressing objects:  51% (681/1334)   \u001b[K\rremote: Compressing objects:  52% (694/1334)   \u001b[K\rremote: Compressing objects:  53% (708/1334)   \u001b[K\rremote: Compressing objects:  54% (721/1334)   \u001b[K\rremote: Compressing objects:  55% (734/1334)   \u001b[K\rremote: Compressing objects:  56% (748/1334)   \u001b[K\rremote: Compressing objects:  57% (761/1334)   \u001b[K\rremote: Compressing objects:  58% (774/1334)   \u001b[K\rremote: Compressing objects:  59% (788/1334)   \u001b[K\rremote: Compressing objects:  60% (801/1334)   \u001b[K\rremote: Compressing objects:  61% (814/1334)   \u001b[K\rremote: Compressing objects:  62% (828/1334)   \u001b[K\rremote: Compressing objects:  63% (841/1334)   \u001b[K\rremote: Compressing objects:  64% (854/1334)   \u001b[K\rremote: Compressing objects:  65% (868/1334)   \u001b[K\rremote: Compressing objects:  66% (881/1334)   \u001b[K\rremote: Compressing objects:  67% (894/1334)   \u001b[K\rremote: Compressing objects:  68% (908/1334)   \u001b[K\rremote: Compressing objects:  69% (921/1334)   \u001b[K\rremote: Compressing objects:  70% (934/1334)   \u001b[K\rremote: Compressing objects:  71% (948/1334)   \u001b[K\rremote: Compressing objects:  72% (961/1334)   \u001b[K\rremote: Compressing objects:  73% (974/1334)   \u001b[K\rremote: Compressing objects:  74% (988/1334)   \u001b[K\rremote: Compressing objects:  75% (1001/1334)   \u001b[K\rremote: Compressing objects:  76% (1014/1334)   \u001b[K\rremote: Compressing objects:  77% (1028/1334)   \u001b[K\rremote: Compressing objects:  78% (1041/1334)   \u001b[K\rremote: Compressing objects:  79% (1054/1334)   \u001b[K\rremote: Compressing objects:  80% (1068/1334)   \u001b[K\rremote: Compressing objects:  81% (1081/1334)   \u001b[K\rremote: Compressing objects:  82% (1094/1334)   \u001b[K\rremote: Compressing objects:  83% (1108/1334)   \u001b[K\rremote: Compressing objects:  84% (1121/1334)   \u001b[K\rremote: Compressing objects:  85% (1134/1334)   \u001b[K\rremote: Compressing objects:  86% (1148/1334)   \u001b[K\rremote: Compressing objects:  87% (1161/1334)   \u001b[K\rremote: Compressing objects:  88% (1174/1334)   \u001b[K\rremote: Compressing objects:  89% (1188/1334)   \u001b[K\rremote: Compressing objects:  90% (1201/1334)   \u001b[K\rremote: Compressing objects:  91% (1214/1334)   \u001b[K\rremote: Compressing objects:  92% (1228/1334)   \u001b[K\rremote: Compressing objects:  93% (1241/1334)   \u001b[K\rremote: Compressing objects:  94% (1254/1334)   \u001b[K\rremote: Compressing objects:  95% (1268/1334)   \u001b[K\rremote: Compressing objects:  96% (1281/1334)   \u001b[K\rremote: Compressing objects:  97% (1294/1334)   \u001b[K\rremote: Compressing objects:  98% (1308/1334)   \u001b[K\rremote: Compressing objects:  99% (1321/1334)   \u001b[K\rremote: Compressing objects: 100% (1334/1334)   \u001b[K\rremote: Compressing objects: 100% (1334/1334), done.\u001b[K\n",
            "Receiving objects:   0% (1/1334)   \rReceiving objects:   1% (14/1334)   \rReceiving objects:   2% (27/1334)   \rReceiving objects:   3% (41/1334)   \rReceiving objects:   4% (54/1334)   \rReceiving objects:   5% (67/1334)   \rReceiving objects:   6% (81/1334)   \rReceiving objects:   7% (94/1334)   \rReceiving objects:   8% (107/1334)   \rReceiving objects:   9% (121/1334)   \rReceiving objects:  10% (134/1334)   \rReceiving objects:  11% (147/1334)   \rReceiving objects:  12% (161/1334)   \rReceiving objects:  13% (174/1334)   \rReceiving objects:  14% (187/1334)   \rReceiving objects:  15% (201/1334)   \rReceiving objects:  16% (214/1334)   \rReceiving objects:  17% (227/1334)   \rReceiving objects:  18% (241/1334)   \rReceiving objects:  19% (254/1334)   \rReceiving objects:  20% (267/1334)   \rReceiving objects:  21% (281/1334)   \rReceiving objects:  22% (294/1334)   \rReceiving objects:  23% (307/1334)   \rReceiving objects:  24% (321/1334)   \rReceiving objects:  25% (334/1334)   \rReceiving objects:  26% (347/1334)   \rReceiving objects:  27% (361/1334)   \rReceiving objects:  28% (374/1334)   \rReceiving objects:  29% (387/1334)   \rReceiving objects:  30% (401/1334)   \rReceiving objects:  31% (414/1334)   \rReceiving objects:  32% (427/1334)   \rReceiving objects:  33% (441/1334)   \rReceiving objects:  34% (454/1334)   \rReceiving objects:  35% (467/1334)   \rReceiving objects:  36% (481/1334)   \rReceiving objects:  37% (494/1334)   \rReceiving objects:  38% (507/1334), 34.68 MiB | 69.36 MiB/s   \rReceiving objects:  39% (521/1334), 34.68 MiB | 69.36 MiB/s   \rReceiving objects:  40% (534/1334), 34.68 MiB | 69.36 MiB/s   \rReceiving objects:  41% (547/1334), 34.68 MiB | 69.36 MiB/s   \rReceiving objects:  42% (561/1334), 34.68 MiB | 69.36 MiB/s   \rReceiving objects:  43% (574/1334), 34.68 MiB | 69.36 MiB/s   \rReceiving objects:  44% (587/1334), 34.68 MiB | 69.36 MiB/s   \rReceiving objects:  45% (601/1334), 34.68 MiB | 69.36 MiB/s   \rReceiving objects:  46% (614/1334), 34.68 MiB | 69.36 MiB/s   \rReceiving objects:  47% (627/1334), 34.68 MiB | 69.36 MiB/s   \rReceiving objects:  48% (641/1334), 34.68 MiB | 69.36 MiB/s   \rReceiving objects:  49% (654/1334), 34.68 MiB | 69.36 MiB/s   \rReceiving objects:  50% (667/1334), 34.68 MiB | 69.36 MiB/s   \rReceiving objects:  51% (681/1334), 34.68 MiB | 69.36 MiB/s   \rReceiving objects:  52% (694/1334), 34.68 MiB | 69.36 MiB/s   \rReceiving objects:  53% (708/1334), 34.68 MiB | 69.36 MiB/s   \rReceiving objects:  54% (721/1334), 34.68 MiB | 69.36 MiB/s   \rReceiving objects:  55% (734/1334), 34.68 MiB | 69.36 MiB/s   \rReceiving objects:  56% (748/1334), 34.68 MiB | 69.36 MiB/s   \rReceiving objects:  57% (761/1334), 34.68 MiB | 69.36 MiB/s   \rReceiving objects:  58% (774/1334), 34.68 MiB | 69.36 MiB/s   \rReceiving objects:  59% (788/1334), 34.68 MiB | 69.36 MiB/s   \rReceiving objects:  60% (801/1334), 34.68 MiB | 69.36 MiB/s   \rReceiving objects:  61% (814/1334), 34.68 MiB | 69.36 MiB/s   \rReceiving objects:  62% (828/1334), 34.68 MiB | 69.36 MiB/s   \rReceiving objects:  63% (841/1334), 34.68 MiB | 69.36 MiB/s   \rReceiving objects:  64% (854/1334), 34.68 MiB | 69.36 MiB/s   \rReceiving objects:  65% (868/1334), 34.68 MiB | 69.36 MiB/s   \rReceiving objects:  66% (881/1334), 34.68 MiB | 69.36 MiB/s   \rReceiving objects:  67% (894/1334), 34.68 MiB | 69.36 MiB/s   \rReceiving objects:  68% (908/1334), 34.68 MiB | 69.36 MiB/s   \rReceiving objects:  69% (921/1334), 34.68 MiB | 69.36 MiB/s   \rReceiving objects:  70% (934/1334), 34.68 MiB | 69.36 MiB/s   \rReceiving objects:  71% (948/1334), 34.68 MiB | 69.36 MiB/s   \rReceiving objects:  72% (961/1334), 34.68 MiB | 69.36 MiB/s   \rReceiving objects:  73% (974/1334), 34.68 MiB | 69.36 MiB/s   \rReceiving objects:  74% (988/1334), 34.68 MiB | 69.36 MiB/s   \rReceiving objects:  75% (1001/1334), 34.68 MiB | 69.36 MiB/s   \rReceiving objects:  76% (1014/1334), 34.68 MiB | 69.36 MiB/s   \rReceiving objects:  77% (1028/1334), 34.68 MiB | 69.36 MiB/s   \rReceiving objects:  78% (1041/1334), 34.68 MiB | 69.36 MiB/s   \rReceiving objects:  79% (1054/1334), 34.68 MiB | 69.36 MiB/s   \rReceiving objects:  80% (1068/1334), 34.68 MiB | 69.36 MiB/s   \rReceiving objects:  81% (1081/1334), 34.68 MiB | 69.36 MiB/s   \rReceiving objects:  81% (1089/1334), 72.30 MiB | 72.36 MiB/s   \rReceiving objects:  82% (1094/1334), 72.30 MiB | 72.36 MiB/s   \rReceiving objects:  83% (1108/1334), 72.30 MiB | 72.36 MiB/s   \rReceiving objects:  84% (1121/1334), 72.30 MiB | 72.36 MiB/s   \rReceiving objects:  85% (1134/1334), 72.30 MiB | 72.36 MiB/s   \rReceiving objects:  86% (1148/1334), 72.30 MiB | 72.36 MiB/s   \rReceiving objects:  87% (1161/1334), 72.30 MiB | 72.36 MiB/s   \rReceiving objects:  88% (1174/1334), 72.30 MiB | 72.36 MiB/s   \rReceiving objects:  89% (1188/1334), 72.30 MiB | 72.36 MiB/s   \rReceiving objects:  90% (1201/1334), 72.30 MiB | 72.36 MiB/s   \rReceiving objects:  91% (1214/1334), 72.30 MiB | 72.36 MiB/s   \rReceiving objects:  92% (1228/1334), 72.30 MiB | 72.36 MiB/s   \rReceiving objects:  93% (1241/1334), 72.30 MiB | 72.36 MiB/s   \rReceiving objects:  94% (1254/1334), 72.30 MiB | 72.36 MiB/s   \rReceiving objects:  95% (1268/1334), 72.30 MiB | 72.36 MiB/s   \rReceiving objects:  96% (1281/1334), 72.30 MiB | 72.36 MiB/s   \rReceiving objects:  97% (1294/1334), 72.30 MiB | 72.36 MiB/s   \rReceiving objects:  98% (1308/1334), 72.30 MiB | 72.36 MiB/s   \rReceiving objects:  99% (1321/1334), 72.30 MiB | 72.36 MiB/s   \rremote: Total 1334 (delta 0), reused 1334 (delta 0), pack-reused 0\u001b[K\n",
            "Receiving objects: 100% (1334/1334), 72.30 MiB | 72.36 MiB/s   \rReceiving objects: 100% (1334/1334), 89.77 MiB | 71.82 MiB/s, done.\n"
          ],
          "name": "stdout"
        }
      ]
    },
    {
      "cell_type": "code",
      "metadata": {
        "id": "8zvXcC4NxkhL",
        "colab_type": "code",
        "outputId": "734bf5c6-d500-481e-b387-101a464d0776",
        "colab": {
          "base_uri": "https://localhost:8080/",
          "height": 34
        }
      },
      "source": [
        "!ls"
      ],
      "execution_count": 0,
      "outputs": [
        {
          "output_type": "stream",
          "text": [
            "lung_cancer_classification  sample_data\n"
          ],
          "name": "stdout"
        }
      ]
    },
    {
      "cell_type": "code",
      "metadata": {
        "id": "bMxyYh94xsQ-",
        "colab_type": "code",
        "outputId": "c53dd5e5-f602-40b7-cf78-fc69798c6832",
        "colab": {
          "base_uri": "https://localhost:8080/",
          "height": 34
        }
      },
      "source": [
        "!ls lung_cancer_classification"
      ],
      "execution_count": 0,
      "outputs": [
        {
          "output_type": "stream",
          "text": [
            "lung_test  lung_train\n"
          ],
          "name": "stdout"
        }
      ]
    },
    {
      "cell_type": "code",
      "metadata": {
        "id": "l8PpfS-8xySY",
        "colab_type": "code",
        "outputId": "8938934e-cbb8-4f0a-8035-f60ed95152a6",
        "colab": {
          "base_uri": "https://localhost:8080/",
          "height": 34
        }
      },
      "source": [
        "!ls lung_cancer_classification/lung_test"
      ],
      "execution_count": 0,
      "outputs": [
        {
          "output_type": "stream",
          "text": [
            "Bening\tmalignant\n"
          ],
          "name": "stdout"
        }
      ]
    },
    {
      "cell_type": "code",
      "metadata": {
        "id": "Cw0G_CZMx61v",
        "colab_type": "code",
        "outputId": "3c7f2dce-35af-4110-8323-f268df6a5c85",
        "colab": {
          "base_uri": "https://localhost:8080/",
          "height": 595
        }
      },
      "source": [
        "!ls lung_cancer_classification/lung_test/Bening"
      ],
      "execution_count": 0,
      "outputs": [
        {
          "output_type": "stream",
          "text": [
            "000000.jpg  000034.jpg\t000068.jpg  000102.jpg\t000136.jpg  000170.jpg\n",
            "000001.jpg  000035.jpg\t000069.jpg  000103.jpg\t000137.jpg  000171.jpg\n",
            "000002.jpg  000036.jpg\t000070.jpg  000104.jpg\t000138.jpg  000172.jpg\n",
            "000003.jpg  000037.jpg\t000071.jpg  000105.jpg\t000139.jpg  000173.jpg\n",
            "000004.jpg  000038.jpg\t000072.jpg  000106.jpg\t000140.jpg  000174.jpg\n",
            "000005.jpg  000039.jpg\t000073.jpg  000107.jpg\t000141.jpg  000175.jpg\n",
            "000006.jpg  000040.jpg\t000074.jpg  000108.jpg\t000142.jpg  000176.jpg\n",
            "000007.jpg  000041.jpg\t000075.jpg  000109.jpg\t000143.jpg  000177.jpg\n",
            "000008.jpg  000042.jpg\t000076.jpg  000110.jpg\t000144.jpg  000178.jpg\n",
            "000009.jpg  000043.jpg\t000077.jpg  000111.jpg\t000145.jpg  000179.jpg\n",
            "000010.jpg  000044.jpg\t000078.jpg  000112.jpg\t000146.jpg  000180.jpg\n",
            "000011.jpg  000045.jpg\t000079.jpg  000113.jpg\t000147.jpg  000181.jpg\n",
            "000012.jpg  000046.jpg\t000080.jpg  000114.jpg\t000148.jpg  000182.jpg\n",
            "000013.jpg  000047.jpg\t000081.jpg  000115.jpg\t000149.jpg  000183.jpg\n",
            "000014.jpg  000048.jpg\t000082.jpg  000116.jpg\t000150.jpg  000184.jpg\n",
            "000015.jpg  000049.jpg\t000083.jpg  000117.jpg\t000151.jpg  000185.jpg\n",
            "000016.jpg  000050.jpg\t000084.jpg  000118.jpg\t000152.jpg  000186.jpg\n",
            "000017.jpg  000051.jpg\t000085.jpg  000119.jpg\t000153.jpg  000187.jpg\n",
            "000018.jpg  000052.jpg\t000086.jpg  000120.jpg\t000154.jpg  000188.jpg\n",
            "000019.jpg  000053.jpg\t000087.jpg  000121.jpg\t000155.jpg  000189.jpg\n",
            "000020.jpg  000054.jpg\t000088.jpg  000122.jpg\t000156.jpg  000190.jpg\n",
            "000021.jpg  000055.jpg\t000089.jpg  000123.jpg\t000157.jpg  000191.jpg\n",
            "000022.jpg  000056.jpg\t000090.jpg  000124.jpg\t000158.jpg  000192.jpg\n",
            "000023.jpg  000057.jpg\t000091.jpg  000125.jpg\t000159.jpg  000193.jpg\n",
            "000024.jpg  000058.jpg\t000092.jpg  000126.jpg\t000160.jpg  000194.jpg\n",
            "000025.jpg  000059.jpg\t000093.jpg  000127.jpg\t000161.jpg  000195.jpg\n",
            "000026.jpg  000060.jpg\t000094.jpg  000128.jpg\t000162.jpg  000196.jpg\n",
            "000027.jpg  000061.jpg\t000095.jpg  000129.jpg\t000163.jpg  000197.jpg\n",
            "000028.jpg  000062.jpg\t000096.jpg  000130.jpg\t000164.jpg  000198.jpg\n",
            "000029.jpg  000063.jpg\t000097.jpg  000131.jpg\t000165.jpg  000199.jpg\n",
            "000030.jpg  000064.jpg\t000098.jpg  000132.jpg\t000166.jpg  000200.jpg\n",
            "000031.jpg  000065.jpg\t000099.jpg  000133.jpg\t000167.jpg\n",
            "000032.jpg  000066.jpg\t000100.jpg  000134.jpg\t000168.jpg\n",
            "000033.jpg  000067.jpg\t000101.jpg  000135.jpg\t000169.jpg\n"
          ],
          "name": "stdout"
        }
      ]
    },
    {
      "cell_type": "code",
      "metadata": {
        "id": "KyZFEqtoyCEC",
        "colab_type": "code",
        "outputId": "79bc2ab7-0d55-419a-8d1a-cde7559ffc38",
        "colab": {
          "base_uri": "https://localhost:8080/",
          "height": 479
        }
      },
      "source": [
        "import keras\n",
        "from keras.models import Sequential\n",
        "from keras.layers import Convolution2D\n",
        "from keras.layers import MaxPooling2D\n",
        "from keras.layers import Flatten\n",
        "from keras.layers import Dense\n",
        "from keras.layers import Dropout\n",
        "\n",
        "#Initialising the CNN\n",
        "model = Sequential()\n",
        "\n",
        "#Step1 - Convolution1\n",
        "model.add(Convolution2D(filters=32,kernel_size=(3,3), strides=(1,1), padding='valid', input_shape=(56,56,3), activation='relu'))\n",
        "\n",
        "#Step2 - MaxPooling1\n",
        "model.add(MaxPooling2D(pool_size = (2,2), strides=(1,1), padding='valid'))\n",
        "\n",
        "#Step3 - Convolution2\n",
        "model.add(Convolution2D(filters=64,kernel_size=(3,3), strides=(1,1), padding='valid', activation='relu'))\n",
        "\n",
        "#Step2 - MaxPooling1\n",
        "model.add(MaxPooling2D(pool_size = (2,2), strides=(1,1), padding='valid'))\n",
        "\n",
        "#step5 - Flattening\n",
        "model.add(Flatten())\n",
        "\n",
        "#step6 - Full connection1\n",
        "model.add(Dense(activation=\"relu\", units=1000))\n",
        "model.add(Dropout(0.5))\n",
        "\n",
        "#step6 - Full connection1\n",
        "model.add(Dense(activation=\"relu\", units=100))\n",
        "model.add(Dropout(0.5))\n",
        "\n",
        "#step10 -Full connection3\n",
        "model.add(Dense(activation=\"softmax\", units=2))\n",
        "model.add(Dropout(0.5))\n",
        "\n",
        "#Compiling the CNN\n",
        "model.compile(optimizer='adam',loss='categorical_crossentropy',metrics=['accuracy'])\n",
        "\n",
        "from keras.preprocessing.image import ImageDataGenerator\n",
        "\n",
        "train_datagen = ImageDataGenerator(\n",
        "        rescale=1.0/255.0,\n",
        "        shear_range=0.2,\n",
        "        zoom_range=0.2,\n",
        "        horizontal_flip=True)\n",
        "\n",
        "test_datagen = ImageDataGenerator(rescale=1.0/255.0)\n",
        "\n",
        "training_set =  train_datagen.flow_from_directory('lung_cancer_classification/lung_train',\n",
        "                                                   target_size=(56, 56),\n",
        "                                                   batch_size=64,\n",
        "                                                   class_mode='categorical')\n",
        "\n",
        "test_set = test_datagen.flow_from_directory('lung_cancer_classification/lung_test',\n",
        "                                             target_size=(56, 56),\n",
        "                                             batch_size=64,\n",
        "                                             class_mode='categorical')\n",
        "\n",
        "#train the model\n",
        "model.fit_generator(training_set,validation_data=test_set, epochs=25, steps_per_epoch=100,validation_steps=765)"
      ],
      "execution_count": 57,
      "outputs": [
        {
          "output_type": "stream",
          "text": [
            "WARNING:tensorflow:From /usr/local/lib/python3.6/dist-packages/keras/backend/tensorflow_backend.py:3445: calling dropout (from tensorflow.python.ops.nn_ops) with keep_prob is deprecated and will be removed in a future version.\n",
            "Instructions for updating:\n",
            "Please use `rate` instead of `keep_prob`. Rate should be set to `rate = 1 - keep_prob`.\n",
            "Found 924 images belonging to 2 classes.\n",
            "Found 402 images belonging to 2 classes.\n",
            "Epoch 1/25\n",
            " 99/100 [============================>.] - ETA: 0s - loss: 0.0325 - acc: 0.5000"
          ],
          "name": "stdout"
        },
        {
          "output_type": "error",
          "ename": "KeyboardInterrupt",
          "evalue": "ignored",
          "traceback": [
            "\u001b[0;31m---------------------------------------------------------------------------\u001b[0m",
            "\u001b[0;31mKeyboardInterrupt\u001b[0m                         Traceback (most recent call last)",
            "\u001b[0;32m<ipython-input-57-ca044fd88fcc>\u001b[0m in \u001b[0;36m<module>\u001b[0;34m()\u001b[0m\n\u001b[1;32m     61\u001b[0m \u001b[0;34m\u001b[0m\u001b[0m\n\u001b[1;32m     62\u001b[0m \u001b[0;31m#train the model\u001b[0m\u001b[0;34m\u001b[0m\u001b[0;34m\u001b[0m\u001b[0;34m\u001b[0m\u001b[0m\n\u001b[0;32m---> 63\u001b[0;31m \u001b[0mmodel\u001b[0m\u001b[0;34m.\u001b[0m\u001b[0mfit_generator\u001b[0m\u001b[0;34m(\u001b[0m\u001b[0mtraining_set\u001b[0m\u001b[0;34m,\u001b[0m\u001b[0mvalidation_data\u001b[0m\u001b[0;34m=\u001b[0m\u001b[0mtest_set\u001b[0m\u001b[0;34m,\u001b[0m \u001b[0mepochs\u001b[0m\u001b[0;34m=\u001b[0m\u001b[0;36m25\u001b[0m\u001b[0;34m,\u001b[0m \u001b[0msteps_per_epoch\u001b[0m\u001b[0;34m=\u001b[0m\u001b[0;36m100\u001b[0m\u001b[0;34m,\u001b[0m\u001b[0mvalidation_steps\u001b[0m\u001b[0;34m=\u001b[0m\u001b[0;36m765\u001b[0m\u001b[0;34m)\u001b[0m\u001b[0;34m\u001b[0m\u001b[0;34m\u001b[0m\u001b[0m\n\u001b[0m",
            "\u001b[0;32m/usr/local/lib/python3.6/dist-packages/keras/legacy/interfaces.py\u001b[0m in \u001b[0;36mwrapper\u001b[0;34m(*args, **kwargs)\u001b[0m\n\u001b[1;32m     89\u001b[0m                 warnings.warn('Update your `' + object_name + '` call to the ' +\n\u001b[1;32m     90\u001b[0m                               'Keras 2 API: ' + signature, stacklevel=2)\n\u001b[0;32m---> 91\u001b[0;31m             \u001b[0;32mreturn\u001b[0m \u001b[0mfunc\u001b[0m\u001b[0;34m(\u001b[0m\u001b[0;34m*\u001b[0m\u001b[0margs\u001b[0m\u001b[0;34m,\u001b[0m \u001b[0;34m**\u001b[0m\u001b[0mkwargs\u001b[0m\u001b[0;34m)\u001b[0m\u001b[0;34m\u001b[0m\u001b[0;34m\u001b[0m\u001b[0m\n\u001b[0m\u001b[1;32m     92\u001b[0m         \u001b[0mwrapper\u001b[0m\u001b[0;34m.\u001b[0m\u001b[0m_original_function\u001b[0m \u001b[0;34m=\u001b[0m \u001b[0mfunc\u001b[0m\u001b[0;34m\u001b[0m\u001b[0;34m\u001b[0m\u001b[0m\n\u001b[1;32m     93\u001b[0m         \u001b[0;32mreturn\u001b[0m \u001b[0mwrapper\u001b[0m\u001b[0;34m\u001b[0m\u001b[0;34m\u001b[0m\u001b[0m\n",
            "\u001b[0;32m/usr/local/lib/python3.6/dist-packages/keras/engine/training.py\u001b[0m in \u001b[0;36mfit_generator\u001b[0;34m(self, generator, steps_per_epoch, epochs, verbose, callbacks, validation_data, validation_steps, class_weight, max_queue_size, workers, use_multiprocessing, shuffle, initial_epoch)\u001b[0m\n\u001b[1;32m   1416\u001b[0m             \u001b[0muse_multiprocessing\u001b[0m\u001b[0;34m=\u001b[0m\u001b[0muse_multiprocessing\u001b[0m\u001b[0;34m,\u001b[0m\u001b[0;34m\u001b[0m\u001b[0;34m\u001b[0m\u001b[0m\n\u001b[1;32m   1417\u001b[0m             \u001b[0mshuffle\u001b[0m\u001b[0;34m=\u001b[0m\u001b[0mshuffle\u001b[0m\u001b[0;34m,\u001b[0m\u001b[0;34m\u001b[0m\u001b[0;34m\u001b[0m\u001b[0m\n\u001b[0;32m-> 1418\u001b[0;31m             initial_epoch=initial_epoch)\n\u001b[0m\u001b[1;32m   1419\u001b[0m \u001b[0;34m\u001b[0m\u001b[0m\n\u001b[1;32m   1420\u001b[0m     \u001b[0;34m@\u001b[0m\u001b[0minterfaces\u001b[0m\u001b[0;34m.\u001b[0m\u001b[0mlegacy_generator_methods_support\u001b[0m\u001b[0;34m\u001b[0m\u001b[0;34m\u001b[0m\u001b[0m\n",
            "\u001b[0;32m/usr/local/lib/python3.6/dist-packages/keras/engine/training_generator.py\u001b[0m in \u001b[0;36mfit_generator\u001b[0;34m(model, generator, steps_per_epoch, epochs, verbose, callbacks, validation_data, validation_steps, class_weight, max_queue_size, workers, use_multiprocessing, shuffle, initial_epoch)\u001b[0m\n\u001b[1;32m    232\u001b[0m                             \u001b[0mval_enqueuer_gen\u001b[0m\u001b[0;34m,\u001b[0m\u001b[0;34m\u001b[0m\u001b[0;34m\u001b[0m\u001b[0m\n\u001b[1;32m    233\u001b[0m                             \u001b[0mvalidation_steps\u001b[0m\u001b[0;34m,\u001b[0m\u001b[0;34m\u001b[0m\u001b[0;34m\u001b[0m\u001b[0m\n\u001b[0;32m--> 234\u001b[0;31m                             workers=0)\n\u001b[0m\u001b[1;32m    235\u001b[0m                     \u001b[0;32melse\u001b[0m\u001b[0;34m:\u001b[0m\u001b[0;34m\u001b[0m\u001b[0;34m\u001b[0m\u001b[0m\n\u001b[1;32m    236\u001b[0m                         \u001b[0;31m# No need for try/except because\u001b[0m\u001b[0;34m\u001b[0m\u001b[0;34m\u001b[0m\u001b[0;34m\u001b[0m\u001b[0m\n",
            "\u001b[0;32m/usr/local/lib/python3.6/dist-packages/keras/legacy/interfaces.py\u001b[0m in \u001b[0;36mwrapper\u001b[0;34m(*args, **kwargs)\u001b[0m\n\u001b[1;32m     89\u001b[0m                 warnings.warn('Update your `' + object_name + '` call to the ' +\n\u001b[1;32m     90\u001b[0m                               'Keras 2 API: ' + signature, stacklevel=2)\n\u001b[0;32m---> 91\u001b[0;31m             \u001b[0;32mreturn\u001b[0m \u001b[0mfunc\u001b[0m\u001b[0;34m(\u001b[0m\u001b[0;34m*\u001b[0m\u001b[0margs\u001b[0m\u001b[0;34m,\u001b[0m \u001b[0;34m**\u001b[0m\u001b[0mkwargs\u001b[0m\u001b[0;34m)\u001b[0m\u001b[0;34m\u001b[0m\u001b[0;34m\u001b[0m\u001b[0m\n\u001b[0m\u001b[1;32m     92\u001b[0m         \u001b[0mwrapper\u001b[0m\u001b[0;34m.\u001b[0m\u001b[0m_original_function\u001b[0m \u001b[0;34m=\u001b[0m \u001b[0mfunc\u001b[0m\u001b[0;34m\u001b[0m\u001b[0;34m\u001b[0m\u001b[0m\n\u001b[1;32m     93\u001b[0m         \u001b[0;32mreturn\u001b[0m \u001b[0mwrapper\u001b[0m\u001b[0;34m\u001b[0m\u001b[0;34m\u001b[0m\u001b[0m\n",
            "\u001b[0;32m/usr/local/lib/python3.6/dist-packages/keras/engine/training.py\u001b[0m in \u001b[0;36mevaluate_generator\u001b[0;34m(self, generator, steps, max_queue_size, workers, use_multiprocessing, verbose)\u001b[0m\n\u001b[1;32m   1470\u001b[0m             \u001b[0mworkers\u001b[0m\u001b[0;34m=\u001b[0m\u001b[0mworkers\u001b[0m\u001b[0;34m,\u001b[0m\u001b[0;34m\u001b[0m\u001b[0;34m\u001b[0m\u001b[0m\n\u001b[1;32m   1471\u001b[0m             \u001b[0muse_multiprocessing\u001b[0m\u001b[0;34m=\u001b[0m\u001b[0muse_multiprocessing\u001b[0m\u001b[0;34m,\u001b[0m\u001b[0;34m\u001b[0m\u001b[0;34m\u001b[0m\u001b[0m\n\u001b[0;32m-> 1472\u001b[0;31m             verbose=verbose)\n\u001b[0m\u001b[1;32m   1473\u001b[0m \u001b[0;34m\u001b[0m\u001b[0m\n\u001b[1;32m   1474\u001b[0m     \u001b[0;34m@\u001b[0m\u001b[0minterfaces\u001b[0m\u001b[0;34m.\u001b[0m\u001b[0mlegacy_generator_methods_support\u001b[0m\u001b[0;34m\u001b[0m\u001b[0;34m\u001b[0m\u001b[0m\n",
            "\u001b[0;32m/usr/local/lib/python3.6/dist-packages/keras/engine/training_generator.py\u001b[0m in \u001b[0;36mevaluate_generator\u001b[0;34m(model, generator, steps, max_queue_size, workers, use_multiprocessing, verbose)\u001b[0m\n\u001b[1;32m    344\u001b[0m                                  \u001b[0;34m'or (x, y). Found: '\u001b[0m \u001b[0;34m+\u001b[0m\u001b[0;34m\u001b[0m\u001b[0;34m\u001b[0m\u001b[0m\n\u001b[1;32m    345\u001b[0m                                  str(generator_output))\n\u001b[0;32m--> 346\u001b[0;31m             \u001b[0mouts\u001b[0m \u001b[0;34m=\u001b[0m \u001b[0mmodel\u001b[0m\u001b[0;34m.\u001b[0m\u001b[0mtest_on_batch\u001b[0m\u001b[0;34m(\u001b[0m\u001b[0mx\u001b[0m\u001b[0;34m,\u001b[0m \u001b[0my\u001b[0m\u001b[0;34m,\u001b[0m \u001b[0msample_weight\u001b[0m\u001b[0;34m=\u001b[0m\u001b[0msample_weight\u001b[0m\u001b[0;34m)\u001b[0m\u001b[0;34m\u001b[0m\u001b[0;34m\u001b[0m\u001b[0m\n\u001b[0m\u001b[1;32m    347\u001b[0m             \u001b[0mouts\u001b[0m \u001b[0;34m=\u001b[0m \u001b[0mto_list\u001b[0m\u001b[0;34m(\u001b[0m\u001b[0mouts\u001b[0m\u001b[0;34m)\u001b[0m\u001b[0;34m\u001b[0m\u001b[0;34m\u001b[0m\u001b[0m\n\u001b[1;32m    348\u001b[0m             \u001b[0mouts_per_batch\u001b[0m\u001b[0;34m.\u001b[0m\u001b[0mappend\u001b[0m\u001b[0;34m(\u001b[0m\u001b[0mouts\u001b[0m\u001b[0;34m)\u001b[0m\u001b[0;34m\u001b[0m\u001b[0;34m\u001b[0m\u001b[0m\n",
            "\u001b[0;32m/usr/local/lib/python3.6/dist-packages/keras/engine/training.py\u001b[0m in \u001b[0;36mtest_on_batch\u001b[0;34m(self, x, y, sample_weight)\u001b[0m\n\u001b[1;32m   1254\u001b[0m             \u001b[0mins\u001b[0m \u001b[0;34m=\u001b[0m \u001b[0mx\u001b[0m \u001b[0;34m+\u001b[0m \u001b[0my\u001b[0m \u001b[0;34m+\u001b[0m \u001b[0msample_weights\u001b[0m\u001b[0;34m\u001b[0m\u001b[0;34m\u001b[0m\u001b[0m\n\u001b[1;32m   1255\u001b[0m         \u001b[0mself\u001b[0m\u001b[0;34m.\u001b[0m\u001b[0m_make_test_function\u001b[0m\u001b[0;34m(\u001b[0m\u001b[0;34m)\u001b[0m\u001b[0;34m\u001b[0m\u001b[0;34m\u001b[0m\u001b[0m\n\u001b[0;32m-> 1256\u001b[0;31m         \u001b[0moutputs\u001b[0m \u001b[0;34m=\u001b[0m \u001b[0mself\u001b[0m\u001b[0;34m.\u001b[0m\u001b[0mtest_function\u001b[0m\u001b[0;34m(\u001b[0m\u001b[0mins\u001b[0m\u001b[0;34m)\u001b[0m\u001b[0;34m\u001b[0m\u001b[0;34m\u001b[0m\u001b[0m\n\u001b[0m\u001b[1;32m   1257\u001b[0m         \u001b[0;32mreturn\u001b[0m \u001b[0munpack_singleton\u001b[0m\u001b[0;34m(\u001b[0m\u001b[0moutputs\u001b[0m\u001b[0;34m)\u001b[0m\u001b[0;34m\u001b[0m\u001b[0;34m\u001b[0m\u001b[0m\n\u001b[1;32m   1258\u001b[0m \u001b[0;34m\u001b[0m\u001b[0m\n",
            "\u001b[0;32m/usr/local/lib/python3.6/dist-packages/keras/backend/tensorflow_backend.py\u001b[0m in \u001b[0;36m__call__\u001b[0;34m(self, inputs)\u001b[0m\n\u001b[1;32m   2713\u001b[0m                 \u001b[0;32mreturn\u001b[0m \u001b[0mself\u001b[0m\u001b[0;34m.\u001b[0m\u001b[0m_legacy_call\u001b[0m\u001b[0;34m(\u001b[0m\u001b[0minputs\u001b[0m\u001b[0;34m)\u001b[0m\u001b[0;34m\u001b[0m\u001b[0;34m\u001b[0m\u001b[0m\n\u001b[1;32m   2714\u001b[0m \u001b[0;34m\u001b[0m\u001b[0m\n\u001b[0;32m-> 2715\u001b[0;31m             \u001b[0;32mreturn\u001b[0m \u001b[0mself\u001b[0m\u001b[0;34m.\u001b[0m\u001b[0m_call\u001b[0m\u001b[0;34m(\u001b[0m\u001b[0minputs\u001b[0m\u001b[0;34m)\u001b[0m\u001b[0;34m\u001b[0m\u001b[0;34m\u001b[0m\u001b[0m\n\u001b[0m\u001b[1;32m   2716\u001b[0m         \u001b[0;32melse\u001b[0m\u001b[0;34m:\u001b[0m\u001b[0;34m\u001b[0m\u001b[0;34m\u001b[0m\u001b[0m\n\u001b[1;32m   2717\u001b[0m             \u001b[0;32mif\u001b[0m \u001b[0mpy_any\u001b[0m\u001b[0;34m(\u001b[0m\u001b[0mis_tensor\u001b[0m\u001b[0;34m(\u001b[0m\u001b[0mx\u001b[0m\u001b[0;34m)\u001b[0m \u001b[0;32mfor\u001b[0m \u001b[0mx\u001b[0m \u001b[0;32min\u001b[0m \u001b[0minputs\u001b[0m\u001b[0;34m)\u001b[0m\u001b[0;34m:\u001b[0m\u001b[0;34m\u001b[0m\u001b[0;34m\u001b[0m\u001b[0m\n",
            "\u001b[0;32m/usr/local/lib/python3.6/dist-packages/keras/backend/tensorflow_backend.py\u001b[0m in \u001b[0;36m_call\u001b[0;34m(self, inputs)\u001b[0m\n\u001b[1;32m   2673\u001b[0m             \u001b[0mfetched\u001b[0m \u001b[0;34m=\u001b[0m \u001b[0mself\u001b[0m\u001b[0;34m.\u001b[0m\u001b[0m_callable_fn\u001b[0m\u001b[0;34m(\u001b[0m\u001b[0;34m*\u001b[0m\u001b[0marray_vals\u001b[0m\u001b[0;34m,\u001b[0m \u001b[0mrun_metadata\u001b[0m\u001b[0;34m=\u001b[0m\u001b[0mself\u001b[0m\u001b[0;34m.\u001b[0m\u001b[0mrun_metadata\u001b[0m\u001b[0;34m)\u001b[0m\u001b[0;34m\u001b[0m\u001b[0;34m\u001b[0m\u001b[0m\n\u001b[1;32m   2674\u001b[0m         \u001b[0;32melse\u001b[0m\u001b[0;34m:\u001b[0m\u001b[0;34m\u001b[0m\u001b[0;34m\u001b[0m\u001b[0m\n\u001b[0;32m-> 2675\u001b[0;31m             \u001b[0mfetched\u001b[0m \u001b[0;34m=\u001b[0m \u001b[0mself\u001b[0m\u001b[0;34m.\u001b[0m\u001b[0m_callable_fn\u001b[0m\u001b[0;34m(\u001b[0m\u001b[0;34m*\u001b[0m\u001b[0marray_vals\u001b[0m\u001b[0;34m)\u001b[0m\u001b[0;34m\u001b[0m\u001b[0;34m\u001b[0m\u001b[0m\n\u001b[0m\u001b[1;32m   2676\u001b[0m         \u001b[0;32mreturn\u001b[0m \u001b[0mfetched\u001b[0m\u001b[0;34m[\u001b[0m\u001b[0;34m:\u001b[0m\u001b[0mlen\u001b[0m\u001b[0;34m(\u001b[0m\u001b[0mself\u001b[0m\u001b[0;34m.\u001b[0m\u001b[0moutputs\u001b[0m\u001b[0;34m)\u001b[0m\u001b[0;34m]\u001b[0m\u001b[0;34m\u001b[0m\u001b[0;34m\u001b[0m\u001b[0m\n\u001b[1;32m   2677\u001b[0m \u001b[0;34m\u001b[0m\u001b[0m\n",
            "\u001b[0;32m/usr/local/lib/python3.6/dist-packages/tensorflow/python/client/session.py\u001b[0m in \u001b[0;36m__call__\u001b[0;34m(self, *args, **kwargs)\u001b[0m\n\u001b[1;32m   1437\u001b[0m           ret = tf_session.TF_SessionRunCallable(\n\u001b[1;32m   1438\u001b[0m               \u001b[0mself\u001b[0m\u001b[0;34m.\u001b[0m\u001b[0m_session\u001b[0m\u001b[0;34m.\u001b[0m\u001b[0m_session\u001b[0m\u001b[0;34m,\u001b[0m \u001b[0mself\u001b[0m\u001b[0;34m.\u001b[0m\u001b[0m_handle\u001b[0m\u001b[0;34m,\u001b[0m \u001b[0margs\u001b[0m\u001b[0;34m,\u001b[0m \u001b[0mstatus\u001b[0m\u001b[0;34m,\u001b[0m\u001b[0;34m\u001b[0m\u001b[0;34m\u001b[0m\u001b[0m\n\u001b[0;32m-> 1439\u001b[0;31m               run_metadata_ptr)\n\u001b[0m\u001b[1;32m   1440\u001b[0m         \u001b[0;32mif\u001b[0m \u001b[0mrun_metadata\u001b[0m\u001b[0;34m:\u001b[0m\u001b[0;34m\u001b[0m\u001b[0;34m\u001b[0m\u001b[0m\n\u001b[1;32m   1441\u001b[0m           \u001b[0mproto_data\u001b[0m \u001b[0;34m=\u001b[0m \u001b[0mtf_session\u001b[0m\u001b[0;34m.\u001b[0m\u001b[0mTF_GetBuffer\u001b[0m\u001b[0;34m(\u001b[0m\u001b[0mrun_metadata_ptr\u001b[0m\u001b[0;34m)\u001b[0m\u001b[0;34m\u001b[0m\u001b[0;34m\u001b[0m\u001b[0m\n",
            "\u001b[0;31mKeyboardInterrupt\u001b[0m: "
          ]
        }
      ]
    },
    {
      "cell_type": "code",
      "metadata": {
        "id": "0hLgsfjGiR36",
        "colab_type": "code",
        "outputId": "b02aeabd-bd9b-4abf-fb54-d65a7951fd00",
        "colab": {
          "base_uri": "https://localhost:8080/",
          "height": 748
        }
      },
      "source": [
        "\n",
        "# import the necessary packages\n",
        "from keras.models import Sequential\n",
        "from keras.layers.convolutional import Conv2D\n",
        "from keras.layers.convolutional import MaxPooling2D\n",
        "from keras.layers.core import Activation\n",
        "from keras.layers.core import Flatten\n",
        "from keras.layers.core import Dense\n",
        "#from keras import backend as K\n",
        "\n",
        "# initialize the model\n",
        "model = Sequential()\n",
        "\n",
        "         \n",
        "# define the first set of CONV => ACTIVATION => POOL layers\n",
        "model.add(Conv2D(32,(3,3), padding=\"same\",input_shape=(56,56, 3)))\n",
        "model.add(Activation(activation=\"relu\"))\n",
        "model.add(MaxPooling2D(pool_size=(2, 2), strides=(2, 2)))\n",
        "            \n",
        "# define the second set of CONV => ACTIVATION => POOL layers\n",
        "model.add(Conv2D(64,(3,3), padding=\"same\"))\n",
        "model.add(Activation(activation=\"relu\"))\n",
        "model.add(MaxPooling2D(pool_size=(2, 2), strides=(2, 2)))\n",
        "        \n",
        "# define the first FC => ACTIVATION layers\n",
        "model.add(Flatten())\n",
        "model.add(Dense(500))\n",
        "model.add(Activation(activation=\"relu\"))\n",
        " \n",
        "# define the second FC layer\n",
        "model.add(Dense(2))\n",
        " \n",
        "# lastly, define the soft-max classifier\n",
        "model.add(Activation(\"softmax\"))\n",
        "        \n",
        "#Compiling the CNN\n",
        "model.compile(optimizer= 'adam' , loss='categorical_crossentropy', metrics=['accuracy'] )\n",
        "\n",
        "\n",
        "#Part2 - Fitting the CNN to the Images\n",
        "from keras.preprocessing.image import ImageDataGenerator\n",
        "\n",
        "train_datagen = ImageDataGenerator(rescale=1.0/255.0,\n",
        "                                   shear_range=0.2,\n",
        "                                   zoom_range=0.2,\n",
        "                                   horizontal_flip=True)\n",
        "\n",
        "test_datagen = ImageDataGenerator(rescale=1.0/255.0)\n",
        "\n",
        "training_set =  train_datagen.flow_from_directory('lung_cancer_classification/lung_train',\n",
        "                                                   target_size=(56, 56),\n",
        "                                                   batch_size=64,\n",
        "                                                   class_mode='categorical')\n",
        "\n",
        "test_set = test_datagen.flow_from_directory('lung_cancer_classification/lung_test',\n",
        "                                             target_size=(56, 56),\n",
        "                                             batch_size=64,\n",
        "                                             class_mode='categorical')\n",
        "#train the model\n",
        "model.fit_generator(training_set,validation_data=test_set, epochs=20, steps_per_epoch=100,validation_steps=402)"
      ],
      "execution_count": 6,
      "outputs": [
        {
          "output_type": "stream",
          "text": [
            "Found 924 images belonging to 2 classes.\n",
            "Found 402 images belonging to 2 classes.\n",
            "Epoch 1/20\n",
            "100/100 [==============================] - 128s 1s/step - loss: 0.3483 - acc: 0.8428 - val_loss: 4.4574 - val_acc: 0.4282\n",
            "Epoch 2/20\n",
            "100/100 [==============================] - 125s 1s/step - loss: 0.0202 - acc: 0.9939 - val_loss: 5.5243 - val_acc: 0.3555\n",
            "Epoch 3/20\n",
            "100/100 [==============================] - 123s 1s/step - loss: 0.0036 - acc: 0.9997 - val_loss: 6.0948 - val_acc: 0.2885\n",
            "Epoch 4/20\n",
            "100/100 [==============================] - 124s 1s/step - loss: 0.0099 - acc: 0.9963 - val_loss: 6.2014 - val_acc: 0.3805\n",
            "Epoch 5/20\n",
            "100/100 [==============================] - 124s 1s/step - loss: 0.0054 - acc: 0.9984 - val_loss: 5.4768 - val_acc: 0.3237\n",
            "Epoch 6/20\n",
            "100/100 [==============================] - 123s 1s/step - loss: 8.5220e-04 - acc: 1.0000 - val_loss: 6.6910 - val_acc: 0.3338\n",
            "Epoch 7/20\n",
            "100/100 [==============================] - 127s 1s/step - loss: 0.0046 - acc: 0.9983 - val_loss: 6.4930 - val_acc: 0.3329\n",
            "Epoch 8/20\n",
            "100/100 [==============================] - 123s 1s/step - loss: 3.8293e-04 - acc: 1.0000 - val_loss: 7.4078 - val_acc: 0.3434\n",
            "Epoch 9/20\n",
            "100/100 [==============================] - 125s 1s/step - loss: 2.0796e-04 - acc: 1.0000 - val_loss: 7.0423 - val_acc: 0.3281\n",
            "Epoch 10/20\n",
            "100/100 [==============================] - 124s 1s/step - loss: 1.3125e-04 - acc: 1.0000 - val_loss: 6.5872 - val_acc: 0.3706\n",
            "Epoch 11/20\n",
            "100/100 [==============================] - 125s 1s/step - loss: 5.8626e-05 - acc: 1.0000 - val_loss: 7.3553 - val_acc: 0.3282\n",
            "Epoch 12/20\n",
            "100/100 [==============================] - 125s 1s/step - loss: 3.0955e-05 - acc: 1.0000 - val_loss: 7.5469 - val_acc: 0.3261\n",
            "Epoch 13/20\n",
            "100/100 [==============================] - 124s 1s/step - loss: 0.0511 - acc: 0.9827 - val_loss: 6.0913 - val_acc: 0.3726\n",
            "Epoch 14/20\n",
            "100/100 [==============================] - 124s 1s/step - loss: 0.0034 - acc: 0.9990 - val_loss: 4.3336 - val_acc: 0.3261\n",
            "Epoch 15/20\n",
            "100/100 [==============================] - 125s 1s/step - loss: 5.4779e-04 - acc: 1.0000 - val_loss: 6.3896 - val_acc: 0.3729\n",
            "Epoch 16/20\n",
            "100/100 [==============================] - 125s 1s/step - loss: 2.9600e-04 - acc: 1.0000 - val_loss: 6.3277 - val_acc: 0.3783\n",
            "Epoch 17/20\n",
            "100/100 [==============================] - 124s 1s/step - loss: 1.2297e-04 - acc: 1.0000 - val_loss: 6.0184 - val_acc: 0.3630\n",
            "Epoch 18/20\n",
            "100/100 [==============================] - 124s 1s/step - loss: 9.0644e-05 - acc: 1.0000 - val_loss: 6.2713 - val_acc: 0.3608\n",
            "Epoch 19/20\n",
            "100/100 [==============================] - 123s 1s/step - loss: 1.1494e-04 - acc: 1.0000 - val_loss: 6.5177 - val_acc: 0.3560\n",
            "Epoch 20/20\n",
            "100/100 [==============================] - 126s 1s/step - loss: 1.1037e-04 - acc: 1.0000 - val_loss: 6.3520 - val_acc: 0.3582\n"
          ],
          "name": "stdout"
        },
        {
          "output_type": "execute_result",
          "data": {
            "text/plain": [
              "<keras.callbacks.History at 0x7fdb2da93978>"
            ]
          },
          "metadata": {
            "tags": []
          },
          "execution_count": 6
        }
      ]
    },
    {
      "cell_type": "code",
      "metadata": {
        "id": "oAKbuBA2yw5q",
        "colab_type": "code",
        "colab": {
          "base_uri": "https://localhost:8080/",
          "height": 1941
        },
        "outputId": "dfde42e6-f2bd-4de0-ade2-2a6b6dffa34a"
      },
      "source": [
        "\n",
        "\n",
        "from keras.models import Sequential\n",
        "from keras.layers.core import Flatten, Dense, Dropout\n",
        "from keras.layers.convolutional import Convolution2D, MaxPooling2D, ZeroPadding2D\n",
        "from keras.optimizers import SGD\n",
        "import cv2, numpy as np\n",
        "\n",
        "\n",
        "model = Sequential()\n",
        "model.add(ZeroPadding2D((1,1),input_shape=(3,56,56)))\n",
        "model.add(Convolution2D(filters=64,kernel_size=(3, 3), activation='relu'))\n",
        "model.add(ZeroPadding2D((1,1)))\n",
        "model.add(Convolution2D(filters=64,kernel_size=(3, 3), activation='relu'))\n",
        "model.add(MaxPooling2D((2,2), strides=(2,2)))\n",
        "\n",
        "model.add(ZeroPadding2D((1,1)))\n",
        "model.add(Convolution2D(filters=128,kernel_size=(3, 3), activation='relu'))\n",
        "model.add(ZeroPadding2D((1,1)))\n",
        "model.add(Convolution2D(filters=128,kernel_size=(3, 3), activation='relu'))\n",
        "model.add(MaxPooling2D((2,2), strides=(2,2)))\n",
        "\n",
        "model.add(ZeroPadding2D((1,1)))\n",
        "model.add(Convolution2D(filters=256,kernel_size=(3, 3), activation='relu'))\n",
        "model.add(ZeroPadding2D((1,1)))\n",
        "model.add(Convolution2D(filters=256,kernel_size=(3, 3), activation='relu'))\n",
        "model.add(ZeroPadding2D((1,1)))\n",
        "model.add(Convolution2D(filters=256,kernel_size=(3, 3), activation='relu'))\n",
        "model.add(MaxPooling2D((2,2), strides=(2,2)))\n",
        "\n",
        "model.add(ZeroPadding2D((1,1)))\n",
        "model.add(Convolution2D(filters=512,kernel_size=(3, 3), activation='relu'))\n",
        "model.add(ZeroPadding2D((1,1)))\n",
        "model.add(Convolution2D(filters=512,kernel_size=(3, 3), activation='relu'))\n",
        "model.add(ZeroPadding2D((1,1)))\n",
        "model.add(Convolution2D(filters=512,kernel_size=(3, 3), activation='relu'))\n",
        "model.add(MaxPooling2D((2,2), strides=(2,2)))\n",
        "\n",
        "model.add(ZeroPadding2D((1,1)))\n",
        "model.add(Convolution2D(filters=512,kernel_size=(3, 3), activation='relu'))\n",
        "model.add(ZeroPadding2D((1,1)))\n",
        "model.add(Convolution2D(filters=512,kernel_size=(3, 3), activation='relu'))\n",
        "model.add(ZeroPadding2D((1,1)))\n",
        "model.add(Convolution2D(filters=512,kernel_size=(3, 3), activation='relu'))\n",
        "model.add(MaxPooling2D((2,2), strides=(2,2)))\n",
        "\n",
        "model.add(Flatten())\n",
        "model.add(Dense(1000, activation='relu'))\n",
        "model.add(Dropout(0.5))\n",
        "model.add(Dense(100, activation='relu'))\n",
        "model.add(Dropout(0.5))\n",
        "model.add(Dense(2, activation='softmax'))\n",
        "model.compile(optimizer=sgd, loss='categorical_crossentropy')\n",
        "\n",
        "\n",
        "#Part2 - Fitting the CNN to the Images\n",
        "from keras.preprocessing.image import ImageDataGenerator\n",
        "\n",
        "train_datagen = ImageDataGenerator(rescale=1.0/255.0,\n",
        "                                   shear_range=0.2,\n",
        "                                   zoom_range=0.2,\n",
        "                                   horizontal_flip=True)\n",
        "\n",
        "test_datagen = ImageDataGenerator(rescale=1.0/255.0)\n",
        "\n",
        "training_set =  train_datagen.flow_from_directory('lung_cancer_classification/lung_train',\n",
        "                                                   target_size=(56, 56),\n",
        "                                                   batch_size=64,\n",
        "                                                   class_mode='categorical')\n",
        "\n",
        "test_set = test_datagen.flow_from_directory('lung_cancer_classification/lung_test',\n",
        "                                             target_size=(56, 56),\n",
        "                                             batch_size=64,\n",
        "                                             class_mode='categorical')\n",
        "#train the model\n",
        "model.fit_generator(training_set,validation_data=test_set, epochs=20, steps_per_epoch=100,validation_steps=402)\n",
        "\n"
      ],
      "execution_count": 1,
      "outputs": [
        {
          "output_type": "stream",
          "text": [
            "Using TensorFlow backend.\n"
          ],
          "name": "stderr"
        },
        {
          "output_type": "stream",
          "text": [
            "WARNING:tensorflow:From /usr/local/lib/python3.6/dist-packages/tensorflow/python/framework/op_def_library.py:263: colocate_with (from tensorflow.python.framework.ops) is deprecated and will be removed in a future version.\n",
            "Instructions for updating:\n",
            "Colocations handled automatically by placer.\n"
          ],
          "name": "stdout"
        },
        {
          "output_type": "error",
          "ename": "ValueError",
          "evalue": "ignored",
          "traceback": [
            "\u001b[0;31m---------------------------------------------------------------------------\u001b[0m",
            "\u001b[0;31mInvalidArgumentError\u001b[0m                      Traceback (most recent call last)",
            "\u001b[0;32m/usr/local/lib/python3.6/dist-packages/tensorflow/python/framework/ops.py\u001b[0m in \u001b[0;36m_create_c_op\u001b[0;34m(graph, node_def, inputs, control_inputs)\u001b[0m\n\u001b[1;32m   1658\u001b[0m   \u001b[0;32mtry\u001b[0m\u001b[0;34m:\u001b[0m\u001b[0;34m\u001b[0m\u001b[0;34m\u001b[0m\u001b[0m\n\u001b[0;32m-> 1659\u001b[0;31m     \u001b[0mc_op\u001b[0m \u001b[0;34m=\u001b[0m \u001b[0mc_api\u001b[0m\u001b[0;34m.\u001b[0m\u001b[0mTF_FinishOperation\u001b[0m\u001b[0;34m(\u001b[0m\u001b[0mop_desc\u001b[0m\u001b[0;34m)\u001b[0m\u001b[0;34m\u001b[0m\u001b[0;34m\u001b[0m\u001b[0m\n\u001b[0m\u001b[1;32m   1660\u001b[0m   \u001b[0;32mexcept\u001b[0m \u001b[0merrors\u001b[0m\u001b[0;34m.\u001b[0m\u001b[0mInvalidArgumentError\u001b[0m \u001b[0;32mas\u001b[0m \u001b[0me\u001b[0m\u001b[0;34m:\u001b[0m\u001b[0;34m\u001b[0m\u001b[0;34m\u001b[0m\u001b[0m\n",
            "\u001b[0;31mInvalidArgumentError\u001b[0m: Negative dimension size caused by subtracting 2 from 1 for 'max_pooling2d_2/MaxPool' (op: 'MaxPool') with input shapes: [?,1,28,128].",
            "\nDuring handling of the above exception, another exception occurred:\n",
            "\u001b[0;31mValueError\u001b[0m                                Traceback (most recent call last)",
            "\u001b[0;32m<ipython-input-1-2e18ee9cabbf>\u001b[0m in \u001b[0;36m<module>\u001b[0;34m()\u001b[0m\n\u001b[1;32m     19\u001b[0m \u001b[0mmodel\u001b[0m\u001b[0;34m.\u001b[0m\u001b[0madd\u001b[0m\u001b[0;34m(\u001b[0m\u001b[0mZeroPadding2D\u001b[0m\u001b[0;34m(\u001b[0m\u001b[0;34m(\u001b[0m\u001b[0;36m1\u001b[0m\u001b[0;34m,\u001b[0m\u001b[0;36m1\u001b[0m\u001b[0;34m)\u001b[0m\u001b[0;34m)\u001b[0m\u001b[0;34m)\u001b[0m\u001b[0;34m\u001b[0m\u001b[0;34m\u001b[0m\u001b[0m\n\u001b[1;32m     20\u001b[0m \u001b[0mmodel\u001b[0m\u001b[0;34m.\u001b[0m\u001b[0madd\u001b[0m\u001b[0;34m(\u001b[0m\u001b[0mConvolution2D\u001b[0m\u001b[0;34m(\u001b[0m\u001b[0mfilters\u001b[0m\u001b[0;34m=\u001b[0m\u001b[0;36m128\u001b[0m\u001b[0;34m,\u001b[0m\u001b[0mkernel_size\u001b[0m\u001b[0;34m=\u001b[0m\u001b[0;34m(\u001b[0m\u001b[0;36m3\u001b[0m\u001b[0;34m,\u001b[0m \u001b[0;36m3\u001b[0m\u001b[0;34m)\u001b[0m\u001b[0;34m,\u001b[0m \u001b[0mactivation\u001b[0m\u001b[0;34m=\u001b[0m\u001b[0;34m'relu'\u001b[0m\u001b[0;34m)\u001b[0m\u001b[0;34m)\u001b[0m\u001b[0;34m\u001b[0m\u001b[0;34m\u001b[0m\u001b[0m\n\u001b[0;32m---> 21\u001b[0;31m \u001b[0mmodel\u001b[0m\u001b[0;34m.\u001b[0m\u001b[0madd\u001b[0m\u001b[0;34m(\u001b[0m\u001b[0mMaxPooling2D\u001b[0m\u001b[0;34m(\u001b[0m\u001b[0;34m(\u001b[0m\u001b[0;36m2\u001b[0m\u001b[0;34m,\u001b[0m\u001b[0;36m2\u001b[0m\u001b[0;34m)\u001b[0m\u001b[0;34m,\u001b[0m \u001b[0mstrides\u001b[0m\u001b[0;34m=\u001b[0m\u001b[0;34m(\u001b[0m\u001b[0;36m2\u001b[0m\u001b[0;34m,\u001b[0m\u001b[0;36m2\u001b[0m\u001b[0;34m)\u001b[0m\u001b[0;34m)\u001b[0m\u001b[0;34m)\u001b[0m\u001b[0;34m\u001b[0m\u001b[0;34m\u001b[0m\u001b[0m\n\u001b[0m\u001b[1;32m     22\u001b[0m \u001b[0;34m\u001b[0m\u001b[0m\n\u001b[1;32m     23\u001b[0m \u001b[0mmodel\u001b[0m\u001b[0;34m.\u001b[0m\u001b[0madd\u001b[0m\u001b[0;34m(\u001b[0m\u001b[0mZeroPadding2D\u001b[0m\u001b[0;34m(\u001b[0m\u001b[0;34m(\u001b[0m\u001b[0;36m1\u001b[0m\u001b[0;34m,\u001b[0m\u001b[0;36m1\u001b[0m\u001b[0;34m)\u001b[0m\u001b[0;34m)\u001b[0m\u001b[0;34m)\u001b[0m\u001b[0;34m\u001b[0m\u001b[0;34m\u001b[0m\u001b[0m\n",
            "\u001b[0;32m/usr/local/lib/python3.6/dist-packages/keras/engine/sequential.py\u001b[0m in \u001b[0;36madd\u001b[0;34m(self, layer)\u001b[0m\n\u001b[1;32m    179\u001b[0m                 \u001b[0mself\u001b[0m\u001b[0;34m.\u001b[0m\u001b[0minputs\u001b[0m \u001b[0;34m=\u001b[0m \u001b[0mnetwork\u001b[0m\u001b[0;34m.\u001b[0m\u001b[0mget_source_inputs\u001b[0m\u001b[0;34m(\u001b[0m\u001b[0mself\u001b[0m\u001b[0;34m.\u001b[0m\u001b[0moutputs\u001b[0m\u001b[0;34m[\u001b[0m\u001b[0;36m0\u001b[0m\u001b[0;34m]\u001b[0m\u001b[0;34m)\u001b[0m\u001b[0;34m\u001b[0m\u001b[0;34m\u001b[0m\u001b[0m\n\u001b[1;32m    180\u001b[0m         \u001b[0;32melif\u001b[0m \u001b[0mself\u001b[0m\u001b[0;34m.\u001b[0m\u001b[0moutputs\u001b[0m\u001b[0;34m:\u001b[0m\u001b[0;34m\u001b[0m\u001b[0;34m\u001b[0m\u001b[0m\n\u001b[0;32m--> 181\u001b[0;31m             \u001b[0moutput_tensor\u001b[0m \u001b[0;34m=\u001b[0m \u001b[0mlayer\u001b[0m\u001b[0;34m(\u001b[0m\u001b[0mself\u001b[0m\u001b[0;34m.\u001b[0m\u001b[0moutputs\u001b[0m\u001b[0;34m[\u001b[0m\u001b[0;36m0\u001b[0m\u001b[0;34m]\u001b[0m\u001b[0;34m)\u001b[0m\u001b[0;34m\u001b[0m\u001b[0;34m\u001b[0m\u001b[0m\n\u001b[0m\u001b[1;32m    182\u001b[0m             \u001b[0;32mif\u001b[0m \u001b[0misinstance\u001b[0m\u001b[0;34m(\u001b[0m\u001b[0moutput_tensor\u001b[0m\u001b[0;34m,\u001b[0m \u001b[0mlist\u001b[0m\u001b[0;34m)\u001b[0m\u001b[0;34m:\u001b[0m\u001b[0;34m\u001b[0m\u001b[0;34m\u001b[0m\u001b[0m\n\u001b[1;32m    183\u001b[0m                 raise TypeError('All layers in a Sequential model '\n",
            "\u001b[0;32m/usr/local/lib/python3.6/dist-packages/keras/engine/base_layer.py\u001b[0m in \u001b[0;36m__call__\u001b[0;34m(self, inputs, **kwargs)\u001b[0m\n\u001b[1;32m    455\u001b[0m             \u001b[0;31m# Actually call the layer,\u001b[0m\u001b[0;34m\u001b[0m\u001b[0;34m\u001b[0m\u001b[0;34m\u001b[0m\u001b[0m\n\u001b[1;32m    456\u001b[0m             \u001b[0;31m# collecting output(s), mask(s), and shape(s).\u001b[0m\u001b[0;34m\u001b[0m\u001b[0;34m\u001b[0m\u001b[0;34m\u001b[0m\u001b[0m\n\u001b[0;32m--> 457\u001b[0;31m             \u001b[0moutput\u001b[0m \u001b[0;34m=\u001b[0m \u001b[0mself\u001b[0m\u001b[0;34m.\u001b[0m\u001b[0mcall\u001b[0m\u001b[0;34m(\u001b[0m\u001b[0minputs\u001b[0m\u001b[0;34m,\u001b[0m \u001b[0;34m**\u001b[0m\u001b[0mkwargs\u001b[0m\u001b[0;34m)\u001b[0m\u001b[0;34m\u001b[0m\u001b[0;34m\u001b[0m\u001b[0m\n\u001b[0m\u001b[1;32m    458\u001b[0m             \u001b[0moutput_mask\u001b[0m \u001b[0;34m=\u001b[0m \u001b[0mself\u001b[0m\u001b[0;34m.\u001b[0m\u001b[0mcompute_mask\u001b[0m\u001b[0;34m(\u001b[0m\u001b[0minputs\u001b[0m\u001b[0;34m,\u001b[0m \u001b[0mprevious_mask\u001b[0m\u001b[0;34m)\u001b[0m\u001b[0;34m\u001b[0m\u001b[0;34m\u001b[0m\u001b[0m\n\u001b[1;32m    459\u001b[0m \u001b[0;34m\u001b[0m\u001b[0m\n",
            "\u001b[0;32m/usr/local/lib/python3.6/dist-packages/keras/layers/pooling.py\u001b[0m in \u001b[0;36mcall\u001b[0;34m(self, inputs)\u001b[0m\n\u001b[1;32m    203\u001b[0m                                         \u001b[0mstrides\u001b[0m\u001b[0;34m=\u001b[0m\u001b[0mself\u001b[0m\u001b[0;34m.\u001b[0m\u001b[0mstrides\u001b[0m\u001b[0;34m,\u001b[0m\u001b[0;34m\u001b[0m\u001b[0;34m\u001b[0m\u001b[0m\n\u001b[1;32m    204\u001b[0m                                         \u001b[0mpadding\u001b[0m\u001b[0;34m=\u001b[0m\u001b[0mself\u001b[0m\u001b[0;34m.\u001b[0m\u001b[0mpadding\u001b[0m\u001b[0;34m,\u001b[0m\u001b[0;34m\u001b[0m\u001b[0;34m\u001b[0m\u001b[0m\n\u001b[0;32m--> 205\u001b[0;31m                                         data_format=self.data_format)\n\u001b[0m\u001b[1;32m    206\u001b[0m         \u001b[0;32mreturn\u001b[0m \u001b[0moutput\u001b[0m\u001b[0;34m\u001b[0m\u001b[0;34m\u001b[0m\u001b[0m\n\u001b[1;32m    207\u001b[0m \u001b[0;34m\u001b[0m\u001b[0m\n",
            "\u001b[0;32m/usr/local/lib/python3.6/dist-packages/keras/layers/pooling.py\u001b[0m in \u001b[0;36m_pooling_function\u001b[0;34m(self, inputs, pool_size, strides, padding, data_format)\u001b[0m\n\u001b[1;32m    266\u001b[0m         output = K.pool2d(inputs, pool_size, strides,\n\u001b[1;32m    267\u001b[0m                           \u001b[0mpadding\u001b[0m\u001b[0;34m,\u001b[0m \u001b[0mdata_format\u001b[0m\u001b[0;34m,\u001b[0m\u001b[0;34m\u001b[0m\u001b[0;34m\u001b[0m\u001b[0m\n\u001b[0;32m--> 268\u001b[0;31m                           pool_mode='max')\n\u001b[0m\u001b[1;32m    269\u001b[0m         \u001b[0;32mreturn\u001b[0m \u001b[0moutput\u001b[0m\u001b[0;34m\u001b[0m\u001b[0;34m\u001b[0m\u001b[0m\n\u001b[1;32m    270\u001b[0m \u001b[0;34m\u001b[0m\u001b[0m\n",
            "\u001b[0;32m/usr/local/lib/python3.6/dist-packages/keras/backend/tensorflow_backend.py\u001b[0m in \u001b[0;36mpool2d\u001b[0;34m(x, pool_size, strides, padding, data_format, pool_mode)\u001b[0m\n\u001b[1;32m   3976\u001b[0m         x = tf.nn.max_pool(x, pool_size, strides,\n\u001b[1;32m   3977\u001b[0m                            \u001b[0mpadding\u001b[0m\u001b[0;34m=\u001b[0m\u001b[0mpadding\u001b[0m\u001b[0;34m,\u001b[0m\u001b[0;34m\u001b[0m\u001b[0;34m\u001b[0m\u001b[0m\n\u001b[0;32m-> 3978\u001b[0;31m                            data_format=tf_data_format)\n\u001b[0m\u001b[1;32m   3979\u001b[0m     \u001b[0;32melif\u001b[0m \u001b[0mpool_mode\u001b[0m \u001b[0;34m==\u001b[0m \u001b[0;34m'avg'\u001b[0m\u001b[0;34m:\u001b[0m\u001b[0;34m\u001b[0m\u001b[0;34m\u001b[0m\u001b[0m\n\u001b[1;32m   3980\u001b[0m         x = tf.nn.avg_pool(x, pool_size, strides,\n",
            "\u001b[0;32m/usr/local/lib/python3.6/dist-packages/tensorflow/python/ops/nn_ops.py\u001b[0m in \u001b[0;36mmax_pool\u001b[0;34m(value, ksize, strides, padding, data_format, name)\u001b[0m\n\u001b[1;32m   2746\u001b[0m         \u001b[0mpadding\u001b[0m\u001b[0;34m=\u001b[0m\u001b[0mpadding\u001b[0m\u001b[0;34m,\u001b[0m\u001b[0;34m\u001b[0m\u001b[0;34m\u001b[0m\u001b[0m\n\u001b[1;32m   2747\u001b[0m         \u001b[0mdata_format\u001b[0m\u001b[0;34m=\u001b[0m\u001b[0mdata_format\u001b[0m\u001b[0;34m,\u001b[0m\u001b[0;34m\u001b[0m\u001b[0;34m\u001b[0m\u001b[0m\n\u001b[0;32m-> 2748\u001b[0;31m         name=name)\n\u001b[0m\u001b[1;32m   2749\u001b[0m \u001b[0;34m\u001b[0m\u001b[0m\n\u001b[1;32m   2750\u001b[0m \u001b[0;34m\u001b[0m\u001b[0m\n",
            "\u001b[0;32m/usr/local/lib/python3.6/dist-packages/tensorflow/python/ops/gen_nn_ops.py\u001b[0m in \u001b[0;36mmax_pool\u001b[0;34m(input, ksize, strides, padding, data_format, name)\u001b[0m\n\u001b[1;32m   5135\u001b[0m   _, _, _op = _op_def_lib._apply_op_helper(\n\u001b[1;32m   5136\u001b[0m         \u001b[0;34m\"MaxPool\"\u001b[0m\u001b[0;34m,\u001b[0m \u001b[0minput\u001b[0m\u001b[0;34m=\u001b[0m\u001b[0minput\u001b[0m\u001b[0;34m,\u001b[0m \u001b[0mksize\u001b[0m\u001b[0;34m=\u001b[0m\u001b[0mksize\u001b[0m\u001b[0;34m,\u001b[0m \u001b[0mstrides\u001b[0m\u001b[0;34m=\u001b[0m\u001b[0mstrides\u001b[0m\u001b[0;34m,\u001b[0m \u001b[0mpadding\u001b[0m\u001b[0;34m=\u001b[0m\u001b[0mpadding\u001b[0m\u001b[0;34m,\u001b[0m\u001b[0;34m\u001b[0m\u001b[0;34m\u001b[0m\u001b[0m\n\u001b[0;32m-> 5137\u001b[0;31m                    data_format=data_format, name=name)\n\u001b[0m\u001b[1;32m   5138\u001b[0m   \u001b[0m_result\u001b[0m \u001b[0;34m=\u001b[0m \u001b[0m_op\u001b[0m\u001b[0;34m.\u001b[0m\u001b[0moutputs\u001b[0m\u001b[0;34m[\u001b[0m\u001b[0;34m:\u001b[0m\u001b[0;34m]\u001b[0m\u001b[0;34m\u001b[0m\u001b[0;34m\u001b[0m\u001b[0m\n\u001b[1;32m   5139\u001b[0m   \u001b[0m_inputs_flat\u001b[0m \u001b[0;34m=\u001b[0m \u001b[0m_op\u001b[0m\u001b[0;34m.\u001b[0m\u001b[0minputs\u001b[0m\u001b[0;34m\u001b[0m\u001b[0;34m\u001b[0m\u001b[0m\n",
            "\u001b[0;32m/usr/local/lib/python3.6/dist-packages/tensorflow/python/framework/op_def_library.py\u001b[0m in \u001b[0;36m_apply_op_helper\u001b[0;34m(self, op_type_name, name, **keywords)\u001b[0m\n\u001b[1;32m    786\u001b[0m         op = g.create_op(op_type_name, inputs, output_types, name=scope,\n\u001b[1;32m    787\u001b[0m                          \u001b[0minput_types\u001b[0m\u001b[0;34m=\u001b[0m\u001b[0minput_types\u001b[0m\u001b[0;34m,\u001b[0m \u001b[0mattrs\u001b[0m\u001b[0;34m=\u001b[0m\u001b[0mattr_protos\u001b[0m\u001b[0;34m,\u001b[0m\u001b[0;34m\u001b[0m\u001b[0;34m\u001b[0m\u001b[0m\n\u001b[0;32m--> 788\u001b[0;31m                          op_def=op_def)\n\u001b[0m\u001b[1;32m    789\u001b[0m       \u001b[0;32mreturn\u001b[0m \u001b[0moutput_structure\u001b[0m\u001b[0;34m,\u001b[0m \u001b[0mop_def\u001b[0m\u001b[0;34m.\u001b[0m\u001b[0mis_stateful\u001b[0m\u001b[0;34m,\u001b[0m \u001b[0mop\u001b[0m\u001b[0;34m\u001b[0m\u001b[0;34m\u001b[0m\u001b[0m\n\u001b[1;32m    790\u001b[0m \u001b[0;34m\u001b[0m\u001b[0m\n",
            "\u001b[0;32m/usr/local/lib/python3.6/dist-packages/tensorflow/python/util/deprecation.py\u001b[0m in \u001b[0;36mnew_func\u001b[0;34m(*args, **kwargs)\u001b[0m\n\u001b[1;32m    505\u001b[0m                 \u001b[0;34m'in a future version'\u001b[0m \u001b[0;32mif\u001b[0m \u001b[0mdate\u001b[0m \u001b[0;32mis\u001b[0m \u001b[0;32mNone\u001b[0m \u001b[0;32melse\u001b[0m \u001b[0;34m(\u001b[0m\u001b[0;34m'after %s'\u001b[0m \u001b[0;34m%\u001b[0m \u001b[0mdate\u001b[0m\u001b[0;34m)\u001b[0m\u001b[0;34m,\u001b[0m\u001b[0;34m\u001b[0m\u001b[0;34m\u001b[0m\u001b[0m\n\u001b[1;32m    506\u001b[0m                 instructions)\n\u001b[0;32m--> 507\u001b[0;31m       \u001b[0;32mreturn\u001b[0m \u001b[0mfunc\u001b[0m\u001b[0;34m(\u001b[0m\u001b[0;34m*\u001b[0m\u001b[0margs\u001b[0m\u001b[0;34m,\u001b[0m \u001b[0;34m**\u001b[0m\u001b[0mkwargs\u001b[0m\u001b[0;34m)\u001b[0m\u001b[0;34m\u001b[0m\u001b[0;34m\u001b[0m\u001b[0m\n\u001b[0m\u001b[1;32m    508\u001b[0m \u001b[0;34m\u001b[0m\u001b[0m\n\u001b[1;32m    509\u001b[0m     doc = _add_deprecated_arg_notice_to_docstring(\n",
            "\u001b[0;32m/usr/local/lib/python3.6/dist-packages/tensorflow/python/framework/ops.py\u001b[0m in \u001b[0;36mcreate_op\u001b[0;34m(***failed resolving arguments***)\u001b[0m\n\u001b[1;32m   3298\u001b[0m           \u001b[0minput_types\u001b[0m\u001b[0;34m=\u001b[0m\u001b[0minput_types\u001b[0m\u001b[0;34m,\u001b[0m\u001b[0;34m\u001b[0m\u001b[0;34m\u001b[0m\u001b[0m\n\u001b[1;32m   3299\u001b[0m           \u001b[0moriginal_op\u001b[0m\u001b[0;34m=\u001b[0m\u001b[0mself\u001b[0m\u001b[0;34m.\u001b[0m\u001b[0m_default_original_op\u001b[0m\u001b[0;34m,\u001b[0m\u001b[0;34m\u001b[0m\u001b[0;34m\u001b[0m\u001b[0m\n\u001b[0;32m-> 3300\u001b[0;31m           op_def=op_def)\n\u001b[0m\u001b[1;32m   3301\u001b[0m       \u001b[0mself\u001b[0m\u001b[0;34m.\u001b[0m\u001b[0m_create_op_helper\u001b[0m\u001b[0;34m(\u001b[0m\u001b[0mret\u001b[0m\u001b[0;34m,\u001b[0m \u001b[0mcompute_device\u001b[0m\u001b[0;34m=\u001b[0m\u001b[0mcompute_device\u001b[0m\u001b[0;34m)\u001b[0m\u001b[0;34m\u001b[0m\u001b[0;34m\u001b[0m\u001b[0m\n\u001b[1;32m   3302\u001b[0m     \u001b[0;32mreturn\u001b[0m \u001b[0mret\u001b[0m\u001b[0;34m\u001b[0m\u001b[0;34m\u001b[0m\u001b[0m\n",
            "\u001b[0;32m/usr/local/lib/python3.6/dist-packages/tensorflow/python/framework/ops.py\u001b[0m in \u001b[0;36m__init__\u001b[0;34m(self, node_def, g, inputs, output_types, control_inputs, input_types, original_op, op_def)\u001b[0m\n\u001b[1;32m   1821\u001b[0m           op_def, inputs, node_def.attr)\n\u001b[1;32m   1822\u001b[0m       self._c_op = _create_c_op(self._graph, node_def, grouped_inputs,\n\u001b[0;32m-> 1823\u001b[0;31m                                 control_input_ops)\n\u001b[0m\u001b[1;32m   1824\u001b[0m \u001b[0;34m\u001b[0m\u001b[0m\n\u001b[1;32m   1825\u001b[0m     \u001b[0;31m# Initialize self._outputs.\u001b[0m\u001b[0;34m\u001b[0m\u001b[0;34m\u001b[0m\u001b[0;34m\u001b[0m\u001b[0m\n",
            "\u001b[0;32m/usr/local/lib/python3.6/dist-packages/tensorflow/python/framework/ops.py\u001b[0m in \u001b[0;36m_create_c_op\u001b[0;34m(graph, node_def, inputs, control_inputs)\u001b[0m\n\u001b[1;32m   1660\u001b[0m   \u001b[0;32mexcept\u001b[0m \u001b[0merrors\u001b[0m\u001b[0;34m.\u001b[0m\u001b[0mInvalidArgumentError\u001b[0m \u001b[0;32mas\u001b[0m \u001b[0me\u001b[0m\u001b[0;34m:\u001b[0m\u001b[0;34m\u001b[0m\u001b[0;34m\u001b[0m\u001b[0m\n\u001b[1;32m   1661\u001b[0m     \u001b[0;31m# Convert to ValueError for backwards compatibility.\u001b[0m\u001b[0;34m\u001b[0m\u001b[0;34m\u001b[0m\u001b[0;34m\u001b[0m\u001b[0m\n\u001b[0;32m-> 1662\u001b[0;31m     \u001b[0;32mraise\u001b[0m \u001b[0mValueError\u001b[0m\u001b[0;34m(\u001b[0m\u001b[0mstr\u001b[0m\u001b[0;34m(\u001b[0m\u001b[0me\u001b[0m\u001b[0;34m)\u001b[0m\u001b[0;34m)\u001b[0m\u001b[0;34m\u001b[0m\u001b[0;34m\u001b[0m\u001b[0m\n\u001b[0m\u001b[1;32m   1663\u001b[0m \u001b[0;34m\u001b[0m\u001b[0m\n\u001b[1;32m   1664\u001b[0m   \u001b[0;32mreturn\u001b[0m \u001b[0mc_op\u001b[0m\u001b[0;34m\u001b[0m\u001b[0;34m\u001b[0m\u001b[0m\n",
            "\u001b[0;31mValueError\u001b[0m: Negative dimension size caused by subtracting 2 from 1 for 'max_pooling2d_2/MaxPool' (op: 'MaxPool') with input shapes: [?,1,28,128]."
          ]
        }
      ]
    }
  ]
}